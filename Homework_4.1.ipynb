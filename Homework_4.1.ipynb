{
 "cells": [
  {
   "cell_type": "code",
   "execution_count": 16,
   "metadata": {
    "collapsed": false
   },
   "outputs": [],
   "source": [
    "import pandas as pd\n",
    "import numpy as np\n",
    "\n",
    "import matplotlib.pyplot as plt\n",
    "%matplotlib inline\n",
    "\n",
    "PATH = './names/'"
   ]
  },
  {
   "cell_type": "markdown",
   "metadata": {},
   "source": [
    "Задача №1"
   ]
  },
  {
   "cell_type": "code",
   "execution_count": 11,
   "metadata": {
    "collapsed": false
   },
   "outputs": [],
   "source": [
    "# def result(years):\n",
    "#     list_name = []\n",
    "#     columns = ['Name', 'Gender', 'Count']\n",
    "#     for year in years:\n",
    "#         read_file_csv = pd.read_csv(PATH + \"yob\" + str(year) + \".txt\", names=columns)\n",
    "#         read_file_csv.sort_values(by=\"Count\", ascending=False, inplace=True,  axis=0)\n",
    "#         list_name.append(read_file_csv)\n",
    "    \n",
    "#     if len(list_name)==1:\n",
    "#         result_top3_in_one_file = list_name[0]\n",
    "#         print(result_top3_in_one_file[:3])\n",
    "#     elif len(list_name) > 1:\n",
    "#         for i in range(0, len(list_name), 1):\n",
    "#             result_top3 = list_name[i]\n",
    "#             print(result_top3[:1])\n",
    "            \n",
    "# result([1900, 1950, 2000])"
   ]
  },
  {
   "cell_type": "code",
   "execution_count": 44,
   "metadata": {
    "collapsed": false
   },
   "outputs": [
    {
     "name": "stdout",
     "output_type": "stream",
     "text": [
      "in [1900, 1950, 2000] years 3 most popular name were: {'James': 111489, 'John': 109360, 'Robert': 101145}\n"
     ]
    }
   ],
   "source": [
    "def result(years):\n",
    "    list_name = list()\n",
    "    columns = ['Name', 'Gender', 'Count']\n",
    "    for year in years:\n",
    "        read_file_csv = pd.read_csv(PATH + \"yob\" + str(year) + \".txt\", names=columns)\n",
    "        read_file_csv.sort_values(by=\"Count\", ascending=False, inplace=True,  axis=0)\n",
    "        list_name.append(read_file_csv)\n",
    "\n",
    "\n",
    "\n",
    "\n",
    "    if len(list_name) == 1:\n",
    "            df = list_name[0]\n",
    "            top3 = dict(zip(list(df['Name'])[:3], list(df['Count'])[:3]))\n",
    "            print('in {0} year 3 most popular name were: {1}'.format(years[0], top3))\n",
    "            return\n",
    "\n",
    "    main_df = list_name[0]\n",
    "    for i, df in enumerate(list_name[1:]):\n",
    "        main_df = pd.merge(main_df, df, on=['Name', 'Gender'])\n",
    "\n",
    "    count_list = [col for col in list(main_df) if 'Count' in col]\n",
    "\n",
    "    main_df['Total'] = main_df[count_list[0]]\n",
    "    for count in count_list[1:]:\n",
    "        main_df['Total'] += main_df[count]\n",
    "\n",
    "    main_df.sort_values(by='Total', axis=0, ascending=False, inplace=True)\n",
    "    top3 = dict(zip(list(main_df['Name'])[:3], list(main_df['Total'])[:3]))\n",
    "    print('in {0} years 3 most popular name were: {1}'.format(years, top3))\n",
    "\n",
    "result([1900, 1950, 2000])"
   ]
  },
  {
   "cell_type": "markdown",
   "metadata": {},
   "source": [
    "Задача №2"
   ]
  },
  {
   "cell_type": "code",
   "execution_count": 45,
   "metadata": {
    "collapsed": false
   },
   "outputs": [
    {
     "name": "stdout",
     "output_type": "stream",
     "text": [
      "Год:1910 | Мальчиков: 194216 | Девочек: 396503\n",
      "Год:1960 | Мальчиков: 2132756 | Девочек: 2022121\n",
      "Год:2010 | Мальчиков: 1914629 | Девочек: 1773440\n"
     ]
    }
   ],
   "source": [
    "def count_gender(years):\n",
    "    columns = ['Name', 'Gender', 'Count']\n",
    "    for year in years:\n",
    "        read_file_csv = pd.read_csv(PATH + \"yob\" + str(year) + \".txt\", names=columns)\n",
    "        boy = read_file_csv[read_file_csv.Gender==\"M\"].Count.sum()\n",
    "        girl = read_file_csv[read_file_csv.Gender==\"F\"].Count.sum()\n",
    "        print(\"Год:\"+ str(year), '|', \"Мальчиков:\", boy, '|', \"Девочек:\", girl)\n",
    "\n",
    "count_gender([1910,1960, 2010])"
   ]
  },
  {
   "cell_type": "code",
   "execution_count": null,
   "metadata": {
    "collapsed": true
   },
   "outputs": [],
   "source": []
  }
 ],
 "metadata": {
  "kernelspec": {
   "display_name": "Python 3",
   "language": "python",
   "name": "python3"
  },
  "language_info": {
   "codemirror_mode": {
    "name": "ipython",
    "version": 3
   },
   "file_extension": ".py",
   "mimetype": "text/x-python",
   "name": "python",
   "nbconvert_exporter": "python",
   "pygments_lexer": "ipython3",
   "version": "3.6.0"
  }
 },
 "nbformat": 4,
 "nbformat_minor": 2
}
