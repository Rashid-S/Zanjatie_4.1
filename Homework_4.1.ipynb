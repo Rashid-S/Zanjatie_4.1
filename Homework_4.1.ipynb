{
 "cells": [
  {
   "cell_type": "code",
   "execution_count": 4,
   "metadata": {
    "collapsed": false
   },
   "outputs": [],
   "source": [
    "import pandas as pd\n",
    "import numpy as np\n",
    "\n",
    "import matplotlib.pyplot as plt\n",
    "%matplotlib inline\n",
    "\n",
    "PATH = '/Users/rashid/Desktop/names/'"
   ]
  },
  {
   "cell_type": "code",
   "execution_count": 28,
   "metadata": {
    "collapsed": false
   },
   "outputs": [
    {
     "name": "stdout",
     "output_type": "stream",
     "text": [
      "   Name Gender  Count\n",
      "0  Mary      F  16707\n",
      "       Name Gender  Count\n",
      "6113  James      M  86266\n",
      "        Name Gender  Count\n",
      "17653  Jacob      M  34467\n"
     ]
    }
   ],
   "source": [
    "# Задача №1\n",
    "\n",
    "def result(years):\n",
    "    list_name = []\n",
    "    columns = ['Name', 'Gender', 'Count']\n",
    "    for year in years:\n",
    "        read_file_csv = pd.read_csv(PATH + \"yob\" + str(year) + \".txt\", names=columns)\n",
    "        read_file_csv.sort_values(by=\"Count\", ascending=False, inplace=True,  axis=0)\n",
    "        list_name.append(read_file_csv)\n",
    "    \n",
    "    if len(list_name)==1:\n",
    "        result_top3_in_one_file = list_name[0]\n",
    "        print(result_top3_in_one_file[:3])\n",
    "    elif len(list_name) > 1:\n",
    "        for i in range(0, len(list_name), 1):\n",
    "            result_top3 = list_name[i]\n",
    "            print(result_top3[:1])\n",
    "            \n",
    "result([1900, 1950, 2000])"
   ]
  },
  {
   "cell_type": "code",
   "execution_count": 29,
   "metadata": {
    "collapsed": false
   },
   "outputs": [
    {
     "name": "stdout",
     "output_type": "stream",
     "text": [
      "Год:1910 | Мальчиков: 194216 | Девочек: 396503\n",
      "Год:1960 | Мальчиков: 2132756 | Девочек: 2022121\n",
      "Год:2010 | Мальчиков: 1914629 | Девочек: 1773440\n"
     ]
    }
   ],
   "source": [
    "# Задача №2\n",
    "\n",
    "count_gender([1910,1960, 2010])\n",
    "def count_gender(years):\n",
    "    columns = ['Name', 'Gender', 'Count']\n",
    "    for year in years:\n",
    "        read_file_csv = pd.read_csv(PATH + \"yob\" + str(year) + \".txt\", names=columns)\n",
    "        boy = read_file_csv[read_file_csv.Gender==\"M\"].Count.sum()\n",
    "        girl = read_file_csv[read_file_csv.Gender==\"F\"].Count.sum()\n",
    "        print(\"Год:\"+ str(year), '|', \"Мальчиков:\", boy, '|', \"Девочек:\", girl)\n",
    "\n"
   ]
  },
  {
   "cell_type": "code",
   "execution_count": null,
   "metadata": {
    "collapsed": true
   },
   "outputs": [],
   "source": []
  }
 ],
 "metadata": {
  "kernelspec": {
   "display_name": "Python 3",
   "language": "python",
   "name": "python3"
  },
  "language_info": {
   "codemirror_mode": {
    "name": "ipython",
    "version": 3
   },
   "file_extension": ".py",
   "mimetype": "text/x-python",
   "name": "python",
   "nbconvert_exporter": "python",
   "pygments_lexer": "ipython3",
   "version": "3.6.0"
  }
 },
 "nbformat": 4,
 "nbformat_minor": 2
}
